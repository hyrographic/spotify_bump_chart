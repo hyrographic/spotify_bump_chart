{
 "cells": [
  {
   "cell_type": "code",
   "execution_count": 11,
   "id": "16241cee-848e-4c85-b798-5ad460c09e9b",
   "metadata": {},
   "outputs": [],
   "source": [
    "import pandas as pd\n",
    "import numpy as np\n",
    "import re\n",
    "import json\n",
    "import os\n",
    "import requests\n",
    "import random\n",
    "from matplotlib import pyplot as plt"
   ]
  },
  {
   "cell_type": "markdown",
   "id": "adebd382-0986-4b30-95f4-dd71290f28a0",
   "metadata": {},
   "source": [
    "## <span style=\"color: #95a5a6\"> Read Data</span>"
   ]
  },
  {
   "cell_type": "code",
   "execution_count": 12,
   "id": "efb20969-f0e9-49a7-8ca3-1a12df6b1db9",
   "metadata": {},
   "outputs": [],
   "source": [
    "streaming_files = [f for f in os.listdir('data') if '.json' in f]\n",
    "streaming_data_list = []\n",
    "for file_name in streaming_files:\n",
    "    with open(f'data/{file_name}', encoding=\"utf8\") as f:\n",
    "        json_data = json.load(f)\n",
    "    streaming_data_list.extend(json_data)"
   ]
  },
  {
   "cell_type": "code",
   "execution_count": 13,
   "id": "50d7dc02-fc64-4411-9070-fcaa241fb011",
   "metadata": {},
   "outputs": [
    {
     "data": {
      "text/plain": [
       "(17241, 21)"
      ]
     },
     "execution_count": 13,
     "metadata": {},
     "output_type": "execute_result"
    }
   ],
   "source": [
    "streaming_data = pd.DataFrame(streaming_data_list)\n",
    "streaming_data.shape"
   ]
  },
  {
   "cell_type": "code",
   "execution_count": 14,
   "id": "57212bd8-e104-432a-b784-c92f924b7bdc",
   "metadata": {},
   "outputs": [],
   "source": [
    "streaming_data['track_id'] = streaming_data['spotify_track_uri'].str.split(':').str[-1]"
   ]
  },
  {
   "cell_type": "code",
   "execution_count": 15,
   "id": "b31a781e-8622-4ab5-a4d6-6d968e2c7fea",
   "metadata": {},
   "outputs": [],
   "source": [
    "pd.set_option('display.max_columns', None)"
   ]
  },
  {
   "cell_type": "markdown",
   "id": "4de544c5-e146-4198-8738-f6d578318904",
   "metadata": {
    "tags": []
   },
   "source": [
    "## <span style=\"color: #95a5a6\">Prep</span>"
   ]
  },
  {
   "cell_type": "code",
   "execution_count": 16,
   "id": "828f5df3-d642-403b-b1f2-8708c88985fa",
   "metadata": {},
   "outputs": [],
   "source": [
    "# convert ts to date\n",
    "streaming_data['ts'] = pd.to_datetime(streaming_data['ts'])\n",
    "# remove incomplete month\n",
    "streaming_data['y'] = streaming_data['ts'].dt.year\n",
    "streaming_data['m'] = streaming_data['ts'].dt.month\n",
    "incomplete_start_month = streaming_data[(streaming_data['y'] == 2015) & (streaming_data['m'] == 3)].index\n",
    "incomplete_end_month = streaming_data[(streaming_data['y'] == 2024) & (streaming_data['m'] == 7)].index\n",
    "streaming_data.drop(index=incomplete_start_month, inplace=True)\n",
    "streaming_data.drop(index=incomplete_end_month, inplace=True)\n",
    "streaming_data.reset_index(drop=True, inplace=True)"
   ]
  },
  {
   "cell_type": "code",
   "execution_count": 17,
   "id": "c0ef8ab2-9d5d-4983-9e00-709612132e0c",
   "metadata": {},
   "outputs": [],
   "source": [
    "# convert ms to seconds and minutes\n",
    "streaming_data['seconds_played'] = streaming_data['ms_played'] / 1_000\n",
    "streaming_data['minutes_played'] = streaming_data['seconds_played'] / 60"
   ]
  },
  {
   "cell_type": "code",
   "execution_count": 18,
   "id": "2e4e482b-0ec2-48e7-b4e1-459a2ac02e99",
   "metadata": {},
   "outputs": [],
   "source": [
    "# rename columns\n",
    "col_map = {\n",
    "    'master_metadata_track_name' : 'track_name',\n",
    "    'master_metadata_album_artist_name' : 'artist_name',\n",
    "    'master_metadata_album_album_name' : 'album_name',\n",
    "}\n",
    "streaming_data.rename(columns=col_map, inplace=True)"
   ]
  },
  {
   "cell_type": "markdown",
   "id": "de543097-9a68-4447-9921-2da70019d96c",
   "metadata": {},
   "source": [
    "## <span style=\"color: #95a5a6\">Output</span>"
   ]
  },
  {
   "cell_type": "code",
   "execution_count": 11,
   "id": "3a1e8118-ad1e-4dc1-9481-3e9539455ba1",
   "metadata": {},
   "outputs": [],
   "source": [
    "streaming_data.to_csv('output/streaming_history.csv', index=False)"
   ]
  }
 ],
 "metadata": {
  "kernelspec": {
   "display_name": "general",
   "language": "python",
   "name": "general"
  },
  "language_info": {
   "codemirror_mode": {
    "name": "ipython",
    "version": 3
   },
   "file_extension": ".py",
   "mimetype": "text/x-python",
   "name": "python",
   "nbconvert_exporter": "python",
   "pygments_lexer": "ipython3",
   "version": "3.9.13"
  }
 },
 "nbformat": 4,
 "nbformat_minor": 5
}
