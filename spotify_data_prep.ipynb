{
 "cells": [
  {
   "cell_type": "code",
   "execution_count": 2,
   "id": "16241cee-848e-4c85-b798-5ad460c09e9b",
   "metadata": {},
   "outputs": [],
   "source": [
    "import pandas as pd\n",
    "import numpy as np\n",
    "import re\n",
    "import json\n",
    "import os\n",
    "import requests\n",
    "import random\n",
    "from matplotlib import pyplot as plt"
   ]
  },
  {
   "cell_type": "markdown",
   "id": "44ce2789-3964-48e4-895f-ce5c294c68ca",
   "metadata": {},
   "source": [
    "## <span style=\"color: #95a5a6\"> Read Data</span>"
   ]
  },
  {
   "cell_type": "code",
   "execution_count": 50,
   "id": "80bbccb0-486a-489a-be6d-c5784bb947c8",
   "metadata": {},
   "outputs": [],
   "source": [
    "with open('data/account_data/SearchQueries.json', encoding='utf-8') as f:\n",
    "    searches_json = json.load(f)"
   ]
  },
  {
   "cell_type": "code",
   "execution_count": 52,
   "id": "dbfcce6f-1586-4c06-9562-4dd3a9052567",
   "metadata": {},
   "outputs": [],
   "source": [
    "search_data = pd.DataFrame(searches_json)"
   ]
  },
  {
   "cell_type": "markdown",
   "id": "2d3d2dcb-acdc-4462-bc3f-3e6a2af7d9d1",
   "metadata": {},
   "source": [
    "## <span style=\"color: #95a5a6\"> Prep</span>"
   ]
  },
  {
   "cell_type": "code",
   "execution_count": 60,
   "id": "82f3b3a1-bacd-413b-9be9-d756b2a7fc53",
   "metadata": {},
   "outputs": [],
   "source": [
    "search_data['searchTime'] = pd.to_datetime(search_data['searchTime'], format='%Y-%m-%dT%H:%M:%S.%fZ[UTC]')"
   ]
  },
  {
   "cell_type": "markdown",
   "id": "aba0a929-3a2c-4c6f-83f3-a828b854a687",
   "metadata": {},
   "source": [
    "## <span style=\"color: #95a5a6\">Output</span>"
   ]
  },
  {
   "cell_type": "code",
   "execution_count": 61,
   "id": "485e9bf1-92b8-486f-9ef4-7a0ade1905d5",
   "metadata": {},
   "outputs": [],
   "source": [
    "search_data.to_csv('output/search_data.csv', index=False)"
   ]
  },
  {
   "cell_type": "code",
   "execution_count": 63,
   "id": "a44e5f88-437f-4e69-9fda-1732096c9271",
   "metadata": {},
   "outputs": [
    {
     "data": {
      "text/html": [
       "<div>\n",
       "<style scoped>\n",
       "    .dataframe tbody tr th:only-of-type {\n",
       "        vertical-align: middle;\n",
       "    }\n",
       "\n",
       "    .dataframe tbody tr th {\n",
       "        vertical-align: top;\n",
       "    }\n",
       "\n",
       "    .dataframe thead th {\n",
       "        text-align: right;\n",
       "    }\n",
       "</style>\n",
       "<table border=\"1\" class=\"dataframe\">\n",
       "  <thead>\n",
       "    <tr style=\"text-align: right;\">\n",
       "      <th></th>\n",
       "      <th>platform</th>\n",
       "      <th>searchTime</th>\n",
       "      <th>searchQuery</th>\n",
       "      <th>searchInteractionURIs</th>\n",
       "    </tr>\n",
       "  </thead>\n",
       "  <tbody>\n",
       "    <tr>\n",
       "      <th>0</th>\n",
       "      <td>IPHONE_ARM64</td>\n",
       "      <td>2024-04-08 13:16:10.907</td>\n",
       "      <td>u</td>\n",
       "      <td>[]</td>\n",
       "    </tr>\n",
       "    <tr>\n",
       "      <th>1</th>\n",
       "      <td>IPHONE_ARM64</td>\n",
       "      <td>2024-04-08 13:16:10.937</td>\n",
       "      <td>ultr</td>\n",
       "      <td>[]</td>\n",
       "    </tr>\n",
       "    <tr>\n",
       "      <th>2</th>\n",
       "      <td>IPHONE</td>\n",
       "      <td>2024-04-08 13:16:29.923</td>\n",
       "      <td>ultrasound split</td>\n",
       "      <td>[spotify:search:ultrasound+test]</td>\n",
       "    </tr>\n",
       "    <tr>\n",
       "      <th>3</th>\n",
       "      <td>IPHONE_ARM64</td>\n",
       "      <td>2024-04-08 13:17:29.956</td>\n",
       "      <td>milk</td>\n",
       "      <td>[]</td>\n",
       "    </tr>\n",
       "    <tr>\n",
       "      <th>4</th>\n",
       "      <td>IPHONE</td>\n",
       "      <td>2024-04-08 13:17:30.640</td>\n",
       "      <td>milk kan</td>\n",
       "      <td>[spotify:artist:5zfqoDmcjGb85SgSFPg9sk]</td>\n",
       "    </tr>\n",
       "  </tbody>\n",
       "</table>\n",
       "</div>"
      ],
      "text/plain": [
       "       platform              searchTime       searchQuery  \\\n",
       "0  IPHONE_ARM64 2024-04-08 13:16:10.907                 u   \n",
       "1  IPHONE_ARM64 2024-04-08 13:16:10.937              ultr   \n",
       "2        IPHONE 2024-04-08 13:16:29.923  ultrasound split   \n",
       "3  IPHONE_ARM64 2024-04-08 13:17:29.956             milk    \n",
       "4        IPHONE 2024-04-08 13:17:30.640          milk kan   \n",
       "\n",
       "                     searchInteractionURIs  \n",
       "0                                       []  \n",
       "1                                       []  \n",
       "2         [spotify:search:ultrasound+test]  \n",
       "3                                       []  \n",
       "4  [spotify:artist:5zfqoDmcjGb85SgSFPg9sk]  "
      ]
     },
     "execution_count": 63,
     "metadata": {},
     "output_type": "execute_result"
    }
   ],
   "source": [
    "search_data.head()"
   ]
  },
  {
   "cell_type": "markdown",
   "id": "adebd382-0986-4b30-95f4-dd71290f28a0",
   "metadata": {},
   "source": [
    "## <span style=\"color: #95a5a6\"> Read Data</span>"
   ]
  },
  {
   "cell_type": "code",
   "execution_count": 4,
   "id": "efb20969-f0e9-49a7-8ca3-1a12df6b1db9",
   "metadata": {},
   "outputs": [],
   "source": [
    "streaming_files = [f for f in os.listdir('data') if '.json' in f]\n",
    "streaming_data_list = []\n",
    "for file_name in streaming_files:\n",
    "    with open(f'data/{file_name}', encoding=\"utf8\") as f:\n",
    "        json_data = json.load(f)\n",
    "    streaming_data_list.extend(json_data)"
   ]
  },
  {
   "cell_type": "code",
   "execution_count": 6,
   "id": "ed90efda-b055-47ee-b02a-a8169c61804e",
   "metadata": {},
   "outputs": [
    {
     "data": {
      "text/plain": [
       "(193442, 19)"
      ]
     },
     "execution_count": 6,
     "metadata": {},
     "output_type": "execute_result"
    }
   ],
   "source": [
    "streaming_data = pd.DataFrame(streaming_data_list)\n",
    "streaming_data.shape"
   ]
  },
  {
   "cell_type": "code",
   "execution_count": 7,
   "id": "57212bd8-e104-432a-b784-c92f924b7bdc",
   "metadata": {},
   "outputs": [],
   "source": [
    "streaming_data['track_id'] = streaming_data['spotify_track_uri'].str.split(':').str[-1]"
   ]
  },
  {
   "cell_type": "code",
   "execution_count": 6,
   "id": "b31a781e-8622-4ab5-a4d6-6d968e2c7fea",
   "metadata": {},
   "outputs": [],
   "source": [
    "pd.set_option('display.max_columns', None)"
   ]
  },
  {
   "cell_type": "markdown",
   "id": "4de544c5-e146-4198-8738-f6d578318904",
   "metadata": {
    "tags": []
   },
   "source": [
    "## <span style=\"color: #95a5a6\">Prep</span>"
   ]
  },
  {
   "cell_type": "code",
   "execution_count": 8,
   "id": "828f5df3-d642-403b-b1f2-8708c88985fa",
   "metadata": {},
   "outputs": [],
   "source": [
    "# convert ts to date\n",
    "streaming_data['ts'] = pd.to_datetime(streaming_data['ts'])\n",
    "# remove incomplete month\n",
    "streaming_data['y'] = streaming_data['ts'].dt.year\n",
    "streaming_data['m'] = streaming_data['ts'].dt.month\n",
    "incomplete_start_month = streaming_data[(streaming_data['y'] == 2015) & (streaming_data['m'] == 3)].index\n",
    "incomplete_end_month = streaming_data[(streaming_data['y'] == 2024) & (streaming_data['m'] == 7)].index\n",
    "streaming_data.drop(index=incomplete_start_month, inplace=True)\n",
    "streaming_data.drop(index=incomplete_end_month, inplace=True)\n",
    "streaming_data.reset_index(drop=True, inplace=True)"
   ]
  },
  {
   "cell_type": "code",
   "execution_count": 9,
   "id": "c0ef8ab2-9d5d-4983-9e00-709612132e0c",
   "metadata": {},
   "outputs": [],
   "source": [
    "# convert ms to seconds and minutes\n",
    "streaming_data['seconds_played'] = streaming_data['ms_played'] / 1_000\n",
    "streaming_data['minutes_played'] = streaming_data['seconds_played'] / 60"
   ]
  },
  {
   "cell_type": "code",
   "execution_count": 10,
   "id": "2e4e482b-0ec2-48e7-b4e1-459a2ac02e99",
   "metadata": {},
   "outputs": [],
   "source": [
    "# rename columns\n",
    "col_map = {\n",
    "    'master_metadata_track_name' : 'track_name',\n",
    "    'master_metadata_album_artist_name' : 'artist_name',\n",
    "    'master_metadata_album_album_name' : 'album_name',\n",
    "}\n",
    "streaming_data.rename(columns=col_map, inplace=True)"
   ]
  },
  {
   "cell_type": "markdown",
   "id": "6d817d1e-daef-4011-ad93-737ebfc0947b",
   "metadata": {
    "tags": []
   },
   "source": [
    "#### <span style=\"color: #95a5a6\">Generate sessions from streaming data</span>"
   ]
  },
  {
   "cell_type": "code",
   "execution_count": 409,
   "id": "15c281a9-9133-44f9-9899-570763b2bb4d",
   "metadata": {},
   "outputs": [],
   "source": [
    "# sort by datetime\n",
    "streaming_data.sort_values('ts', inplace=True)\n",
    "streaming_data.reset_index(drop=True, inplace=True)\n",
    "# group data by time diff\n",
    "streaming_data['ts_curr'] = streaming_data['ts']\n",
    "streaming_data['ts_above'] = streaming_data['ts'].shift(1)\n",
    "streaming_data['ts_diff'] = streaming_data['ts'] - streaming_data['ts_above']\n",
    "streaming_data['ts_diff_seconds'] = streaming_data['ts_diff'].apply(lambda x: x.seconds)\n",
    "streaming_data['ts_diff_mins'] = streaming_data['ts_diff_seconds'] / 60\n",
    "# get session breakpoints\n",
    "session_breakpoints = streaming_data[streaming_data['ts_diff_seconds'] > 3_600] # over a hour\n",
    "streaming_data.loc[session_breakpoints.index, 'breakpoint'] = True\n",
    "streaming_data['breakpoint'] = streaming_data['breakpoint'].fillna(False)"
   ]
  },
  {
   "cell_type": "code",
   "execution_count": 410,
   "id": "5ada1c39-629b-43bd-9a97-96ecb15d1788",
   "metadata": {},
   "outputs": [],
   "source": [
    "# iterate through breakpoints recording session start and end indicies\n",
    "start_end_pairs = []\n",
    "sessions_dict = {}\n",
    "for i, idx in enumerate(session_breakpoints.index):\n",
    "    # get session starting index\n",
    "    if i == 0:\n",
    "        start_idx = 0\n",
    "    else:\n",
    "        start_idx = session_breakpoints.index[i-1]\n",
    "    # get session ending index\n",
    "    if (i+1) == len(session_breakpoints):\n",
    "        end_idx = streaming_data.index[-1]\n",
    "    else:\n",
    "        end_idx = idx\n",
    "    # testing\n",
    "    start_end_pairs.append((start_idx, end_idx))\n",
    "    # get session rows\n",
    "    session_data = streaming_data.iloc[start_idx:end_idx].copy()\n",
    "    sessions_dict[i] = session_data"
   ]
  },
  {
   "cell_type": "code",
   "execution_count": 411,
   "id": "548fae6e-02bb-4e1c-92a5-1fec317ccb40",
   "metadata": {},
   "outputs": [],
   "source": [
    "sessions_concat = pd.concat(sessions_dict.values(), keys=sessions_dict.keys())\n",
    "session_data = sessions_concat.reset_index(level=0).rename(columns={'level_0':'session_number'})\n",
    "session_data.reset_index(drop=True, inplace=True)"
   ]
  },
  {
   "cell_type": "markdown",
   "id": "6c888761-a487-4b34-847a-d744743eef97",
   "metadata": {
    "tags": []
   },
   "source": [
    "#### <span style=\"color: #95a5a6\">Output Session Data</span>"
   ]
  },
  {
   "cell_type": "code",
   "execution_count": 412,
   "id": "8d02df56-d83c-4162-9a2f-b8bcc985e660",
   "metadata": {},
   "outputs": [
    {
     "data": {
      "text/plain": [
       "(184250, 32)"
      ]
     },
     "execution_count": 412,
     "metadata": {},
     "output_type": "execute_result"
    }
   ],
   "source": [
    "streaming_data.shape"
   ]
  },
  {
   "cell_type": "code",
   "execution_count": 413,
   "id": "5f4bd072-f129-45db-8326-58454265d834",
   "metadata": {},
   "outputs": [
    {
     "data": {
      "text/plain": [
       "(184249, 33)"
      ]
     },
     "execution_count": 413,
     "metadata": {},
     "output_type": "execute_result"
    }
   ],
   "source": [
    "session_data.shape"
   ]
  },
  {
   "cell_type": "code",
   "execution_count": 414,
   "id": "62351a4c-4c0a-445f-95f0-794c863f1b2b",
   "metadata": {},
   "outputs": [],
   "source": [
    "session_data.to_csv('output/session_data.csv', index=False)"
   ]
  },
  {
   "cell_type": "code",
   "execution_count": 415,
   "id": "d1055b3b-6d19-411a-b422-ac7b0e3949ef",
   "metadata": {},
   "outputs": [
    {
     "data": {
      "text/html": [
       "<div>\n",
       "<style scoped>\n",
       "    .dataframe tbody tr th:only-of-type {\n",
       "        vertical-align: middle;\n",
       "    }\n",
       "\n",
       "    .dataframe tbody tr th {\n",
       "        vertical-align: top;\n",
       "    }\n",
       "\n",
       "    .dataframe thead th {\n",
       "        text-align: right;\n",
       "    }\n",
       "</style>\n",
       "<table border=\"1\" class=\"dataframe\">\n",
       "  <thead>\n",
       "    <tr style=\"text-align: right;\">\n",
       "      <th></th>\n",
       "      <th>session_number</th>\n",
       "      <th>ts</th>\n",
       "      <th>username</th>\n",
       "      <th>platform</th>\n",
       "      <th>ms_played</th>\n",
       "      <th>conn_country</th>\n",
       "      <th>ip_addr_decrypted</th>\n",
       "      <th>user_agent_decrypted</th>\n",
       "      <th>track_name</th>\n",
       "      <th>artist_name</th>\n",
       "      <th>album_name</th>\n",
       "      <th>spotify_track_uri</th>\n",
       "      <th>episode_name</th>\n",
       "      <th>episode_show_name</th>\n",
       "      <th>spotify_episode_uri</th>\n",
       "      <th>reason_start</th>\n",
       "      <th>reason_end</th>\n",
       "      <th>shuffle</th>\n",
       "      <th>skipped</th>\n",
       "      <th>offline</th>\n",
       "      <th>offline_timestamp</th>\n",
       "      <th>incognito_mode</th>\n",
       "      <th>track_id</th>\n",
       "      <th>y</th>\n",
       "      <th>m</th>\n",
       "      <th>ts_curr</th>\n",
       "      <th>ts_above</th>\n",
       "      <th>ts_diff</th>\n",
       "      <th>ts_diff_seconds</th>\n",
       "      <th>breakpoint</th>\n",
       "      <th>ts_diff_mins</th>\n",
       "      <th>seconds_played</th>\n",
       "      <th>minutes_played</th>\n",
       "    </tr>\n",
       "  </thead>\n",
       "  <tbody>\n",
       "    <tr>\n",
       "      <th>0</th>\n",
       "      <td>0</td>\n",
       "      <td>2015-05-02 15:52:01+00:00</td>\n",
       "      <td>+==hi==+</td>\n",
       "      <td>Windows 7 (6.1.7601; x64; SP1; S)</td>\n",
       "      <td>79980</td>\n",
       "      <td>GB</td>\n",
       "      <td>86.25.60.179</td>\n",
       "      <td>unknown</td>\n",
       "      <td>Lego House</td>\n",
       "      <td>Ed Sheeran</td>\n",
       "      <td>+</td>\n",
       "      <td>spotify:track:5ubHAQtKuFfiG4FXfLP804</td>\n",
       "      <td>None</td>\n",
       "      <td>None</td>\n",
       "      <td>None</td>\n",
       "      <td>clickrow</td>\n",
       "      <td>endplay</td>\n",
       "      <td>False</td>\n",
       "      <td>True</td>\n",
       "      <td>False</td>\n",
       "      <td>0.000000e+00</td>\n",
       "      <td>False</td>\n",
       "      <td>5ubHAQtKuFfiG4FXfLP804</td>\n",
       "      <td>2015</td>\n",
       "      <td>5</td>\n",
       "      <td>2015-05-02 15:52:01+00:00</td>\n",
       "      <td>NaT</td>\n",
       "      <td>NaT</td>\n",
       "      <td>NaN</td>\n",
       "      <td>False</td>\n",
       "      <td>NaN</td>\n",
       "      <td>79.980</td>\n",
       "      <td>1.333000</td>\n",
       "    </tr>\n",
       "    <tr>\n",
       "      <th>1</th>\n",
       "      <td>0</td>\n",
       "      <td>2015-05-02 15:52:35+00:00</td>\n",
       "      <td>+==hi==+</td>\n",
       "      <td>Windows 7 (6.1.7601; x64; SP1; S)</td>\n",
       "      <td>35390</td>\n",
       "      <td>GB</td>\n",
       "      <td>86.25.60.179</td>\n",
       "      <td>unknown</td>\n",
       "      <td>Lose Yourself - From \"8 Mile\" Soundtrack</td>\n",
       "      <td>Eminem</td>\n",
       "      <td>Curtain Call</td>\n",
       "      <td>spotify:track:7w9bgPAmPTtrkt2v16QWvQ</td>\n",
       "      <td>None</td>\n",
       "      <td>None</td>\n",
       "      <td>None</td>\n",
       "      <td>clickrow</td>\n",
       "      <td>endplay</td>\n",
       "      <td>False</td>\n",
       "      <td>True</td>\n",
       "      <td>False</td>\n",
       "      <td>0.000000e+00</td>\n",
       "      <td>False</td>\n",
       "      <td>7w9bgPAmPTtrkt2v16QWvQ</td>\n",
       "      <td>2015</td>\n",
       "      <td>5</td>\n",
       "      <td>2015-05-02 15:52:35+00:00</td>\n",
       "      <td>2015-05-02 15:52:01+00:00</td>\n",
       "      <td>0 days 00:00:34</td>\n",
       "      <td>34.0</td>\n",
       "      <td>False</td>\n",
       "      <td>0.566667</td>\n",
       "      <td>35.390</td>\n",
       "      <td>0.589833</td>\n",
       "    </tr>\n",
       "    <tr>\n",
       "      <th>2</th>\n",
       "      <td>0</td>\n",
       "      <td>2015-05-02 15:53:52+00:00</td>\n",
       "      <td>+==hi==+</td>\n",
       "      <td>Windows 7 (6.1.7601; x64; SP1; S)</td>\n",
       "      <td>77159</td>\n",
       "      <td>GB</td>\n",
       "      <td>86.25.60.179</td>\n",
       "      <td>unknown</td>\n",
       "      <td>Hello</td>\n",
       "      <td>Eminem</td>\n",
       "      <td>Relapse: Refill</td>\n",
       "      <td>spotify:track:2Dr76N76UX0xtZoLvwe3WY</td>\n",
       "      <td>None</td>\n",
       "      <td>None</td>\n",
       "      <td>None</td>\n",
       "      <td>clickrow</td>\n",
       "      <td>fwdbtn</td>\n",
       "      <td>False</td>\n",
       "      <td>True</td>\n",
       "      <td>False</td>\n",
       "      <td>0.000000e+00</td>\n",
       "      <td>False</td>\n",
       "      <td>2Dr76N76UX0xtZoLvwe3WY</td>\n",
       "      <td>2015</td>\n",
       "      <td>5</td>\n",
       "      <td>2015-05-02 15:53:52+00:00</td>\n",
       "      <td>2015-05-02 15:52:35+00:00</td>\n",
       "      <td>0 days 00:01:17</td>\n",
       "      <td>77.0</td>\n",
       "      <td>False</td>\n",
       "      <td>1.283333</td>\n",
       "      <td>77.159</td>\n",
       "      <td>1.285983</td>\n",
       "    </tr>\n",
       "    <tr>\n",
       "      <th>3</th>\n",
       "      <td>0</td>\n",
       "      <td>2015-05-02 15:53:54+00:00</td>\n",
       "      <td>+==hi==+</td>\n",
       "      <td>Windows 7 (6.1.7601; x64; SP1; S)</td>\n",
       "      <td>2786</td>\n",
       "      <td>GB</td>\n",
       "      <td>86.25.60.179</td>\n",
       "      <td>unknown</td>\n",
       "      <td>Stan</td>\n",
       "      <td>Eminem</td>\n",
       "      <td>Curtain Call</td>\n",
       "      <td>spotify:track:1h45qrpHTHLlbCGSr8QQEA</td>\n",
       "      <td>None</td>\n",
       "      <td>None</td>\n",
       "      <td>None</td>\n",
       "      <td>fwdbtn</td>\n",
       "      <td>fwdbtn</td>\n",
       "      <td>True</td>\n",
       "      <td>True</td>\n",
       "      <td>False</td>\n",
       "      <td>0.000000e+00</td>\n",
       "      <td>False</td>\n",
       "      <td>1h45qrpHTHLlbCGSr8QQEA</td>\n",
       "      <td>2015</td>\n",
       "      <td>5</td>\n",
       "      <td>2015-05-02 15:53:54+00:00</td>\n",
       "      <td>2015-05-02 15:53:52+00:00</td>\n",
       "      <td>0 days 00:00:02</td>\n",
       "      <td>2.0</td>\n",
       "      <td>False</td>\n",
       "      <td>0.033333</td>\n",
       "      <td>2.786</td>\n",
       "      <td>0.046433</td>\n",
       "    </tr>\n",
       "    <tr>\n",
       "      <th>4</th>\n",
       "      <td>0</td>\n",
       "      <td>2015-05-02 15:53:55+00:00</td>\n",
       "      <td>+==hi==+</td>\n",
       "      <td>Windows 7 (6.1.7601; x64; SP1; S)</td>\n",
       "      <td>2043</td>\n",
       "      <td>GB</td>\n",
       "      <td>86.25.60.179</td>\n",
       "      <td>unknown</td>\n",
       "      <td>Never Enough</td>\n",
       "      <td>Eminem</td>\n",
       "      <td>Encore</td>\n",
       "      <td>spotify:track:3uBeTrCu8B31thODnDjcat</td>\n",
       "      <td>None</td>\n",
       "      <td>None</td>\n",
       "      <td>None</td>\n",
       "      <td>fwdbtn</td>\n",
       "      <td>fwdbtn</td>\n",
       "      <td>True</td>\n",
       "      <td>True</td>\n",
       "      <td>False</td>\n",
       "      <td>0.000000e+00</td>\n",
       "      <td>False</td>\n",
       "      <td>3uBeTrCu8B31thODnDjcat</td>\n",
       "      <td>2015</td>\n",
       "      <td>5</td>\n",
       "      <td>2015-05-02 15:53:55+00:00</td>\n",
       "      <td>2015-05-02 15:53:54+00:00</td>\n",
       "      <td>0 days 00:00:01</td>\n",
       "      <td>1.0</td>\n",
       "      <td>False</td>\n",
       "      <td>0.016667</td>\n",
       "      <td>2.043</td>\n",
       "      <td>0.034050</td>\n",
       "    </tr>\n",
       "    <tr>\n",
       "      <th>...</th>\n",
       "      <td>...</td>\n",
       "      <td>...</td>\n",
       "      <td>...</td>\n",
       "      <td>...</td>\n",
       "      <td>...</td>\n",
       "      <td>...</td>\n",
       "      <td>...</td>\n",
       "      <td>...</td>\n",
       "      <td>...</td>\n",
       "      <td>...</td>\n",
       "      <td>...</td>\n",
       "      <td>...</td>\n",
       "      <td>...</td>\n",
       "      <td>...</td>\n",
       "      <td>...</td>\n",
       "      <td>...</td>\n",
       "      <td>...</td>\n",
       "      <td>...</td>\n",
       "      <td>...</td>\n",
       "      <td>...</td>\n",
       "      <td>...</td>\n",
       "      <td>...</td>\n",
       "      <td>...</td>\n",
       "      <td>...</td>\n",
       "      <td>...</td>\n",
       "      <td>...</td>\n",
       "      <td>...</td>\n",
       "      <td>...</td>\n",
       "      <td>...</td>\n",
       "      <td>...</td>\n",
       "      <td>...</td>\n",
       "      <td>...</td>\n",
       "      <td>...</td>\n",
       "    </tr>\n",
       "    <tr>\n",
       "      <th>184244</th>\n",
       "      <td>6887</td>\n",
       "      <td>2024-06-28 21:02:55+00:00</td>\n",
       "      <td>+==hi==+</td>\n",
       "      <td>ios</td>\n",
       "      <td>1416</td>\n",
       "      <td>GB</td>\n",
       "      <td>2a02:c7c:5271:c300:4160:841c:4e78:256d</td>\n",
       "      <td>None</td>\n",
       "      <td>Jigsaw Falling Into Place</td>\n",
       "      <td>Radiohead</td>\n",
       "      <td>In Rainbows</td>\n",
       "      <td>spotify:track:0YJ9FWWHn9EfnN0lHwbzvV</td>\n",
       "      <td>None</td>\n",
       "      <td>None</td>\n",
       "      <td>None</td>\n",
       "      <td>playbtn</td>\n",
       "      <td>fwdbtn</td>\n",
       "      <td>True</td>\n",
       "      <td>True</td>\n",
       "      <td>False</td>\n",
       "      <td>1.719609e+09</td>\n",
       "      <td>False</td>\n",
       "      <td>0YJ9FWWHn9EfnN0lHwbzvV</td>\n",
       "      <td>2024</td>\n",
       "      <td>6</td>\n",
       "      <td>2024-06-28 21:02:55+00:00</td>\n",
       "      <td>2024-06-28 21:02:45+00:00</td>\n",
       "      <td>0 days 00:00:10</td>\n",
       "      <td>10.0</td>\n",
       "      <td>False</td>\n",
       "      <td>0.166667</td>\n",
       "      <td>1.416</td>\n",
       "      <td>0.023600</td>\n",
       "    </tr>\n",
       "    <tr>\n",
       "      <th>184245</th>\n",
       "      <td>6887</td>\n",
       "      <td>2024-06-28 21:02:58+00:00</td>\n",
       "      <td>+==hi==+</td>\n",
       "      <td>ios</td>\n",
       "      <td>534</td>\n",
       "      <td>GB</td>\n",
       "      <td>2a02:c7c:5271:c300:4160:841c:4e78:256d</td>\n",
       "      <td>None</td>\n",
       "      <td>12:51</td>\n",
       "      <td>The Strokes</td>\n",
       "      <td>Room On Fire</td>\n",
       "      <td>spotify:track:6Yu1OL8I0D4vjOzYdsXYGK</td>\n",
       "      <td>None</td>\n",
       "      <td>None</td>\n",
       "      <td>None</td>\n",
       "      <td>fwdbtn</td>\n",
       "      <td>backbtn</td>\n",
       "      <td>True</td>\n",
       "      <td>True</td>\n",
       "      <td>False</td>\n",
       "      <td>1.719609e+09</td>\n",
       "      <td>False</td>\n",
       "      <td>6Yu1OL8I0D4vjOzYdsXYGK</td>\n",
       "      <td>2024</td>\n",
       "      <td>6</td>\n",
       "      <td>2024-06-28 21:02:58+00:00</td>\n",
       "      <td>2024-06-28 21:02:55+00:00</td>\n",
       "      <td>0 days 00:00:03</td>\n",
       "      <td>3.0</td>\n",
       "      <td>False</td>\n",
       "      <td>0.050000</td>\n",
       "      <td>0.534</td>\n",
       "      <td>0.008900</td>\n",
       "    </tr>\n",
       "    <tr>\n",
       "      <th>184246</th>\n",
       "      <td>6887</td>\n",
       "      <td>2024-06-28 21:02:58+00:00</td>\n",
       "      <td>+==hi==+</td>\n",
       "      <td>ios</td>\n",
       "      <td>1996</td>\n",
       "      <td>GB</td>\n",
       "      <td>2a02:c7c:5271:c300:4160:841c:4e78:256d</td>\n",
       "      <td>None</td>\n",
       "      <td>Do 2 Me (feat. Anderson .Paak &amp; SiR)</td>\n",
       "      <td>KAYTRANADA</td>\n",
       "      <td>TIMELESS</td>\n",
       "      <td>spotify:track:5J75NvHDMTbJtLqym6CXuI</td>\n",
       "      <td>None</td>\n",
       "      <td>None</td>\n",
       "      <td>None</td>\n",
       "      <td>fwdbtn</td>\n",
       "      <td>fwdbtn</td>\n",
       "      <td>True</td>\n",
       "      <td>True</td>\n",
       "      <td>False</td>\n",
       "      <td>1.719609e+09</td>\n",
       "      <td>False</td>\n",
       "      <td>5J75NvHDMTbJtLqym6CXuI</td>\n",
       "      <td>2024</td>\n",
       "      <td>6</td>\n",
       "      <td>2024-06-28 21:02:58+00:00</td>\n",
       "      <td>2024-06-28 21:02:58+00:00</td>\n",
       "      <td>0 days 00:00:00</td>\n",
       "      <td>0.0</td>\n",
       "      <td>False</td>\n",
       "      <td>0.000000</td>\n",
       "      <td>1.996</td>\n",
       "      <td>0.033267</td>\n",
       "    </tr>\n",
       "    <tr>\n",
       "      <th>184247</th>\n",
       "      <td>6887</td>\n",
       "      <td>2024-06-28 21:03:07+00:00</td>\n",
       "      <td>+==hi==+</td>\n",
       "      <td>ios</td>\n",
       "      <td>8382</td>\n",
       "      <td>GB</td>\n",
       "      <td>2a02:c7c:5271:c300:4160:841c:4e78:256d</td>\n",
       "      <td>None</td>\n",
       "      <td>Jigsaw Falling Into Place</td>\n",
       "      <td>Radiohead</td>\n",
       "      <td>In Rainbows</td>\n",
       "      <td>spotify:track:0YJ9FWWHn9EfnN0lHwbzvV</td>\n",
       "      <td>None</td>\n",
       "      <td>None</td>\n",
       "      <td>None</td>\n",
       "      <td>backbtn</td>\n",
       "      <td>fwdbtn</td>\n",
       "      <td>True</td>\n",
       "      <td>True</td>\n",
       "      <td>False</td>\n",
       "      <td>1.719609e+09</td>\n",
       "      <td>False</td>\n",
       "      <td>0YJ9FWWHn9EfnN0lHwbzvV</td>\n",
       "      <td>2024</td>\n",
       "      <td>6</td>\n",
       "      <td>2024-06-28 21:03:07+00:00</td>\n",
       "      <td>2024-06-28 21:02:58+00:00</td>\n",
       "      <td>0 days 00:00:09</td>\n",
       "      <td>9.0</td>\n",
       "      <td>False</td>\n",
       "      <td>0.150000</td>\n",
       "      <td>8.382</td>\n",
       "      <td>0.139700</td>\n",
       "    </tr>\n",
       "    <tr>\n",
       "      <th>184248</th>\n",
       "      <td>6887</td>\n",
       "      <td>2024-06-28 21:03:19+00:00</td>\n",
       "      <td>+==hi==+</td>\n",
       "      <td>ios</td>\n",
       "      <td>12004</td>\n",
       "      <td>GB</td>\n",
       "      <td>2a02:c7c:5271:c300:4160:841c:4e78:256d</td>\n",
       "      <td>None</td>\n",
       "      <td>12:51</td>\n",
       "      <td>The Strokes</td>\n",
       "      <td>Room On Fire</td>\n",
       "      <td>spotify:track:6Yu1OL8I0D4vjOzYdsXYGK</td>\n",
       "      <td>None</td>\n",
       "      <td>None</td>\n",
       "      <td>None</td>\n",
       "      <td>fwdbtn</td>\n",
       "      <td>endplay</td>\n",
       "      <td>True</td>\n",
       "      <td>True</td>\n",
       "      <td>False</td>\n",
       "      <td>1.719609e+09</td>\n",
       "      <td>False</td>\n",
       "      <td>6Yu1OL8I0D4vjOzYdsXYGK</td>\n",
       "      <td>2024</td>\n",
       "      <td>6</td>\n",
       "      <td>2024-06-28 21:03:19+00:00</td>\n",
       "      <td>2024-06-28 21:03:07+00:00</td>\n",
       "      <td>0 days 00:00:12</td>\n",
       "      <td>12.0</td>\n",
       "      <td>False</td>\n",
       "      <td>0.200000</td>\n",
       "      <td>12.004</td>\n",
       "      <td>0.200067</td>\n",
       "    </tr>\n",
       "  </tbody>\n",
       "</table>\n",
       "<p>184249 rows × 33 columns</p>\n",
       "</div>"
      ],
      "text/plain": [
       "        session_number                        ts  username  \\\n",
       "0                    0 2015-05-02 15:52:01+00:00  +==hi==+   \n",
       "1                    0 2015-05-02 15:52:35+00:00  +==hi==+   \n",
       "2                    0 2015-05-02 15:53:52+00:00  +==hi==+   \n",
       "3                    0 2015-05-02 15:53:54+00:00  +==hi==+   \n",
       "4                    0 2015-05-02 15:53:55+00:00  +==hi==+   \n",
       "...                ...                       ...       ...   \n",
       "184244            6887 2024-06-28 21:02:55+00:00  +==hi==+   \n",
       "184245            6887 2024-06-28 21:02:58+00:00  +==hi==+   \n",
       "184246            6887 2024-06-28 21:02:58+00:00  +==hi==+   \n",
       "184247            6887 2024-06-28 21:03:07+00:00  +==hi==+   \n",
       "184248            6887 2024-06-28 21:03:19+00:00  +==hi==+   \n",
       "\n",
       "                                 platform  ms_played conn_country  \\\n",
       "0       Windows 7 (6.1.7601; x64; SP1; S)      79980           GB   \n",
       "1       Windows 7 (6.1.7601; x64; SP1; S)      35390           GB   \n",
       "2       Windows 7 (6.1.7601; x64; SP1; S)      77159           GB   \n",
       "3       Windows 7 (6.1.7601; x64; SP1; S)       2786           GB   \n",
       "4       Windows 7 (6.1.7601; x64; SP1; S)       2043           GB   \n",
       "...                                   ...        ...          ...   \n",
       "184244                                ios       1416           GB   \n",
       "184245                                ios        534           GB   \n",
       "184246                                ios       1996           GB   \n",
       "184247                                ios       8382           GB   \n",
       "184248                                ios      12004           GB   \n",
       "\n",
       "                             ip_addr_decrypted user_agent_decrypted  \\\n",
       "0                                 86.25.60.179              unknown   \n",
       "1                                 86.25.60.179              unknown   \n",
       "2                                 86.25.60.179              unknown   \n",
       "3                                 86.25.60.179              unknown   \n",
       "4                                 86.25.60.179              unknown   \n",
       "...                                        ...                  ...   \n",
       "184244  2a02:c7c:5271:c300:4160:841c:4e78:256d                 None   \n",
       "184245  2a02:c7c:5271:c300:4160:841c:4e78:256d                 None   \n",
       "184246  2a02:c7c:5271:c300:4160:841c:4e78:256d                 None   \n",
       "184247  2a02:c7c:5271:c300:4160:841c:4e78:256d                 None   \n",
       "184248  2a02:c7c:5271:c300:4160:841c:4e78:256d                 None   \n",
       "\n",
       "                                      track_name  artist_name  \\\n",
       "0                                     Lego House   Ed Sheeran   \n",
       "1       Lose Yourself - From \"8 Mile\" Soundtrack       Eminem   \n",
       "2                                          Hello       Eminem   \n",
       "3                                           Stan       Eminem   \n",
       "4                                   Never Enough       Eminem   \n",
       "...                                          ...          ...   \n",
       "184244                 Jigsaw Falling Into Place    Radiohead   \n",
       "184245                                     12:51  The Strokes   \n",
       "184246      Do 2 Me (feat. Anderson .Paak & SiR)   KAYTRANADA   \n",
       "184247                 Jigsaw Falling Into Place    Radiohead   \n",
       "184248                                     12:51  The Strokes   \n",
       "\n",
       "             album_name                     spotify_track_uri episode_name  \\\n",
       "0                     +  spotify:track:5ubHAQtKuFfiG4FXfLP804         None   \n",
       "1          Curtain Call  spotify:track:7w9bgPAmPTtrkt2v16QWvQ         None   \n",
       "2       Relapse: Refill  spotify:track:2Dr76N76UX0xtZoLvwe3WY         None   \n",
       "3          Curtain Call  spotify:track:1h45qrpHTHLlbCGSr8QQEA         None   \n",
       "4                Encore  spotify:track:3uBeTrCu8B31thODnDjcat         None   \n",
       "...                 ...                                   ...          ...   \n",
       "184244      In Rainbows  spotify:track:0YJ9FWWHn9EfnN0lHwbzvV         None   \n",
       "184245     Room On Fire  spotify:track:6Yu1OL8I0D4vjOzYdsXYGK         None   \n",
       "184246         TIMELESS  spotify:track:5J75NvHDMTbJtLqym6CXuI         None   \n",
       "184247      In Rainbows  spotify:track:0YJ9FWWHn9EfnN0lHwbzvV         None   \n",
       "184248     Room On Fire  spotify:track:6Yu1OL8I0D4vjOzYdsXYGK         None   \n",
       "\n",
       "       episode_show_name spotify_episode_uri reason_start reason_end  shuffle  \\\n",
       "0                   None                None     clickrow    endplay    False   \n",
       "1                   None                None     clickrow    endplay    False   \n",
       "2                   None                None     clickrow     fwdbtn    False   \n",
       "3                   None                None       fwdbtn     fwdbtn     True   \n",
       "4                   None                None       fwdbtn     fwdbtn     True   \n",
       "...                  ...                 ...          ...        ...      ...   \n",
       "184244              None                None      playbtn     fwdbtn     True   \n",
       "184245              None                None       fwdbtn    backbtn     True   \n",
       "184246              None                None       fwdbtn     fwdbtn     True   \n",
       "184247              None                None      backbtn     fwdbtn     True   \n",
       "184248              None                None       fwdbtn    endplay     True   \n",
       "\n",
       "       skipped offline  offline_timestamp  incognito_mode  \\\n",
       "0         True   False       0.000000e+00           False   \n",
       "1         True   False       0.000000e+00           False   \n",
       "2         True   False       0.000000e+00           False   \n",
       "3         True   False       0.000000e+00           False   \n",
       "4         True   False       0.000000e+00           False   \n",
       "...        ...     ...                ...             ...   \n",
       "184244    True   False       1.719609e+09           False   \n",
       "184245    True   False       1.719609e+09           False   \n",
       "184246    True   False       1.719609e+09           False   \n",
       "184247    True   False       1.719609e+09           False   \n",
       "184248    True   False       1.719609e+09           False   \n",
       "\n",
       "                      track_id     y  m                   ts_curr  \\\n",
       "0       5ubHAQtKuFfiG4FXfLP804  2015  5 2015-05-02 15:52:01+00:00   \n",
       "1       7w9bgPAmPTtrkt2v16QWvQ  2015  5 2015-05-02 15:52:35+00:00   \n",
       "2       2Dr76N76UX0xtZoLvwe3WY  2015  5 2015-05-02 15:53:52+00:00   \n",
       "3       1h45qrpHTHLlbCGSr8QQEA  2015  5 2015-05-02 15:53:54+00:00   \n",
       "4       3uBeTrCu8B31thODnDjcat  2015  5 2015-05-02 15:53:55+00:00   \n",
       "...                        ...   ... ..                       ...   \n",
       "184244  0YJ9FWWHn9EfnN0lHwbzvV  2024  6 2024-06-28 21:02:55+00:00   \n",
       "184245  6Yu1OL8I0D4vjOzYdsXYGK  2024  6 2024-06-28 21:02:58+00:00   \n",
       "184246  5J75NvHDMTbJtLqym6CXuI  2024  6 2024-06-28 21:02:58+00:00   \n",
       "184247  0YJ9FWWHn9EfnN0lHwbzvV  2024  6 2024-06-28 21:03:07+00:00   \n",
       "184248  6Yu1OL8I0D4vjOzYdsXYGK  2024  6 2024-06-28 21:03:19+00:00   \n",
       "\n",
       "                        ts_above         ts_diff  ts_diff_seconds  breakpoint  \\\n",
       "0                            NaT             NaT              NaN       False   \n",
       "1      2015-05-02 15:52:01+00:00 0 days 00:00:34             34.0       False   \n",
       "2      2015-05-02 15:52:35+00:00 0 days 00:01:17             77.0       False   \n",
       "3      2015-05-02 15:53:52+00:00 0 days 00:00:02              2.0       False   \n",
       "4      2015-05-02 15:53:54+00:00 0 days 00:00:01              1.0       False   \n",
       "...                          ...             ...              ...         ...   \n",
       "184244 2024-06-28 21:02:45+00:00 0 days 00:00:10             10.0       False   \n",
       "184245 2024-06-28 21:02:55+00:00 0 days 00:00:03              3.0       False   \n",
       "184246 2024-06-28 21:02:58+00:00 0 days 00:00:00              0.0       False   \n",
       "184247 2024-06-28 21:02:58+00:00 0 days 00:00:09              9.0       False   \n",
       "184248 2024-06-28 21:03:07+00:00 0 days 00:00:12             12.0       False   \n",
       "\n",
       "        ts_diff_mins  seconds_played  minutes_played  \n",
       "0                NaN          79.980        1.333000  \n",
       "1           0.566667          35.390        0.589833  \n",
       "2           1.283333          77.159        1.285983  \n",
       "3           0.033333           2.786        0.046433  \n",
       "4           0.016667           2.043        0.034050  \n",
       "...              ...             ...             ...  \n",
       "184244      0.166667           1.416        0.023600  \n",
       "184245      0.050000           0.534        0.008900  \n",
       "184246      0.000000           1.996        0.033267  \n",
       "184247      0.150000           8.382        0.139700  \n",
       "184248      0.200000          12.004        0.200067  \n",
       "\n",
       "[184249 rows x 33 columns]"
      ]
     },
     "execution_count": 415,
     "metadata": {},
     "output_type": "execute_result"
    }
   ],
   "source": [
    "session_data"
   ]
  },
  {
   "cell_type": "code",
   "execution_count": 68,
   "id": "a6080860-94e0-477a-aa48-c9b42dfe405c",
   "metadata": {},
   "outputs": [
    {
     "data": {
      "text/html": [
       "<div>\n",
       "<style scoped>\n",
       "    .dataframe tbody tr th:only-of-type {\n",
       "        vertical-align: middle;\n",
       "    }\n",
       "\n",
       "    .dataframe tbody tr th {\n",
       "        vertical-align: top;\n",
       "    }\n",
       "\n",
       "    .dataframe thead th {\n",
       "        text-align: right;\n",
       "    }\n",
       "</style>\n",
       "<table border=\"1\" class=\"dataframe\">\n",
       "  <thead>\n",
       "    <tr style=\"text-align: right;\">\n",
       "      <th></th>\n",
       "      <th>ts</th>\n",
       "      <th>username</th>\n",
       "      <th>platform</th>\n",
       "      <th>ms_played</th>\n",
       "      <th>conn_country</th>\n",
       "      <th>ip_addr_decrypted</th>\n",
       "      <th>user_agent_decrypted</th>\n",
       "      <th>master_metadata_track_name</th>\n",
       "      <th>master_metadata_album_artist_name</th>\n",
       "      <th>master_metadata_album_album_name</th>\n",
       "      <th>spotify_track_uri</th>\n",
       "      <th>episode_name</th>\n",
       "      <th>episode_show_name</th>\n",
       "      <th>spotify_episode_uri</th>\n",
       "      <th>reason_start</th>\n",
       "      <th>reason_end</th>\n",
       "      <th>shuffle</th>\n",
       "      <th>skipped</th>\n",
       "      <th>offline</th>\n",
       "      <th>offline_timestamp</th>\n",
       "      <th>incognito_mode</th>\n",
       "      <th>y</th>\n",
       "      <th>m</th>\n",
       "    </tr>\n",
       "  </thead>\n",
       "  <tbody>\n",
       "    <tr>\n",
       "      <th>0</th>\n",
       "      <td>2015-05-02T15:52:01Z</td>\n",
       "      <td>+==hi==+</td>\n",
       "      <td>Windows 7 (6.1.7601; x64; SP1; S)</td>\n",
       "      <td>79980</td>\n",
       "      <td>GB</td>\n",
       "      <td>86.25.60.179</td>\n",
       "      <td>unknown</td>\n",
       "      <td>Lego House</td>\n",
       "      <td>Ed Sheeran</td>\n",
       "      <td>+</td>\n",
       "      <td>spotify:track:5ubHAQtKuFfiG4FXfLP804</td>\n",
       "      <td>None</td>\n",
       "      <td>None</td>\n",
       "      <td>None</td>\n",
       "      <td>clickrow</td>\n",
       "      <td>endplay</td>\n",
       "      <td>False</td>\n",
       "      <td>True</td>\n",
       "      <td>False</td>\n",
       "      <td>0.0</td>\n",
       "      <td>False</td>\n",
       "      <td>2015</td>\n",
       "      <td>5</td>\n",
       "    </tr>\n",
       "    <tr>\n",
       "      <th>1</th>\n",
       "      <td>2015-05-02T15:52:35Z</td>\n",
       "      <td>+==hi==+</td>\n",
       "      <td>Windows 7 (6.1.7601; x64; SP1; S)</td>\n",
       "      <td>35390</td>\n",
       "      <td>GB</td>\n",
       "      <td>86.25.60.179</td>\n",
       "      <td>unknown</td>\n",
       "      <td>Lose Yourself - From \"8 Mile\" Soundtrack</td>\n",
       "      <td>Eminem</td>\n",
       "      <td>Curtain Call</td>\n",
       "      <td>spotify:track:7w9bgPAmPTtrkt2v16QWvQ</td>\n",
       "      <td>None</td>\n",
       "      <td>None</td>\n",
       "      <td>None</td>\n",
       "      <td>clickrow</td>\n",
       "      <td>endplay</td>\n",
       "      <td>False</td>\n",
       "      <td>True</td>\n",
       "      <td>False</td>\n",
       "      <td>0.0</td>\n",
       "      <td>False</td>\n",
       "      <td>2015</td>\n",
       "      <td>5</td>\n",
       "    </tr>\n",
       "  </tbody>\n",
       "</table>\n",
       "</div>"
      ],
      "text/plain": [
       "                     ts  username                           platform  \\\n",
       "0  2015-05-02T15:52:01Z  +==hi==+  Windows 7 (6.1.7601; x64; SP1; S)   \n",
       "1  2015-05-02T15:52:35Z  +==hi==+  Windows 7 (6.1.7601; x64; SP1; S)   \n",
       "\n",
       "   ms_played conn_country ip_addr_decrypted user_agent_decrypted  \\\n",
       "0      79980           GB      86.25.60.179              unknown   \n",
       "1      35390           GB      86.25.60.179              unknown   \n",
       "\n",
       "                 master_metadata_track_name master_metadata_album_artist_name  \\\n",
       "0                                Lego House                        Ed Sheeran   \n",
       "1  Lose Yourself - From \"8 Mile\" Soundtrack                            Eminem   \n",
       "\n",
       "  master_metadata_album_album_name                     spotify_track_uri  \\\n",
       "0                                +  spotify:track:5ubHAQtKuFfiG4FXfLP804   \n",
       "1                     Curtain Call  spotify:track:7w9bgPAmPTtrkt2v16QWvQ   \n",
       "\n",
       "  episode_name episode_show_name spotify_episode_uri reason_start reason_end  \\\n",
       "0         None              None                None     clickrow    endplay   \n",
       "1         None              None                None     clickrow    endplay   \n",
       "\n",
       "   shuffle skipped offline  offline_timestamp  incognito_mode     y  m  \n",
       "0    False    True   False                0.0           False  2015  5  \n",
       "1    False    True   False                0.0           False  2015  5  "
      ]
     },
     "execution_count": 68,
     "metadata": {},
     "output_type": "execute_result"
    }
   ],
   "source": [
    "streaming_data.head(2)"
   ]
  },
  {
   "cell_type": "markdown",
   "id": "7d95ca11-0d62-4c04-a3e0-315eb956d61e",
   "metadata": {
    "jp-MarkdownHeadingCollapsed": true,
    "tags": []
   },
   "source": [
    "#### <span style=\"color: #95a5a6\">Spotify API Credentials</span>"
   ]
  },
  {
   "cell_type": "code",
   "execution_count": 170,
   "id": "3575b00c-c69b-4434-b938-5de614d3aac8",
   "metadata": {},
   "outputs": [],
   "source": [
    "client_id = 'e548589a0f7c43d8a546de7f459b70d9'\n",
    "client_secret = '0bbfaca1e8e949959c5856cab53b97fe'\n",
    "auth_url = 'https://accounts.spotify.com/api/token'\n",
    "auth_response = requests.post(auth_url, {\n",
    "    'grant_type': 'client_credentials',\n",
    "    'client_id': client_id,\n",
    "    'client_secret': client_secret,\n",
    "})\n",
    "auth_response_data = auth_response.json()\n",
    "access_token = auth_response_data['access_token']\n",
    "# define headers using access token\n",
    "headers = {\n",
    "    'Authorization': f'Bearer {access_token}'\n",
    "}"
   ]
  },
  {
   "cell_type": "code",
   "execution_count": 179,
   "id": "bd8b79b3-43ba-427b-830c-afcbe2eb35d7",
   "metadata": {},
   "outputs": [
    {
     "data": {
      "text/plain": [
       "<Response [200]>"
      ]
     },
     "execution_count": 179,
     "metadata": {},
     "output_type": "execute_result"
    }
   ],
   "source": [
    "auth_response"
   ]
  },
  {
   "cell_type": "code",
   "execution_count": 180,
   "id": "d58a79e0-3f6c-4bd1-af13-7fbaa5fb504a",
   "metadata": {},
   "outputs": [
    {
     "data": {
      "text/plain": [
       "b'{\"access_token\":\"BQCK9Hcm-Yikyd4dUbL5YisZfU1e3g4sTtJhmWUiC4XFYwgAKZQ9TkqBWW-53vs4ctbJfCv9NpXH1W2qdWtb_M24MLPn87w7Dql_BtMUp2agtYqDuZw\",\"token_type\":\"Bearer\",\"expires_in\":3600}'"
      ]
     },
     "execution_count": 180,
     "metadata": {},
     "output_type": "execute_result"
    }
   ],
   "source": [
    "auth_response.content"
   ]
  },
  {
   "cell_type": "code",
   "execution_count": 207,
   "id": "3fc1f1dc-9bdf-447d-91f3-a00709b6934a",
   "metadata": {},
   "outputs": [],
   "source": [
    "# testing\n",
    "test_id = '5ubHAQtKuFfiG4FXfLP804'\n",
    "test_url = f\"https://api.spotify.com/v1/audio_features/{test_id}\"\n",
    "test_response = requests.get(test_url, headers=headers)"
   ]
  },
  {
   "cell_type": "code",
   "execution_count": 208,
   "id": "97c48fa1-b85f-432b-b546-3881740fbf7f",
   "metadata": {},
   "outputs": [
    {
     "data": {
      "text/plain": [
       "b'{\\n  \"error\": {\\n    \"status\": 404,\\n    \"message\": \"Service not found\"\\n  }\\n}'"
      ]
     },
     "execution_count": 208,
     "metadata": {},
     "output_type": "execute_result"
    }
   ],
   "source": [
    "test_response.content"
   ]
  },
  {
   "cell_type": "markdown",
   "id": "619a3260-7bd1-4bd4-8cf9-7a4d31f7226b",
   "metadata": {
    "jp-MarkdownHeadingCollapsed": true,
    "tags": []
   },
   "source": [
    "#### <span style=\"color: #95a5a6\">Get Track Audio Features</span>"
   ]
  },
  {
   "cell_type": "code",
   "execution_count": 188,
   "id": "9295f2b8-8577-4013-b01c-cb8605115f64",
   "metadata": {},
   "outputs": [],
   "source": [
    "# get distinct tracks\n",
    "distinct_tracks = streaming_data.drop_duplicates(['track_name'])\n",
    "distinct_track_ids = distinct_tracks['spotify_track_uri'].str.split(':').str[-1]\n",
    "distinct_track_ids.dropna(inplace=True)"
   ]
  },
  {
   "cell_type": "code",
   "execution_count": 206,
   "id": "77f3e8ae-f165-4bb2-be07-4b605dc0a60e",
   "metadata": {},
   "outputs": [
    {
     "data": {
      "text/plain": [
       "0         5ubHAQtKuFfiG4FXfLP804\n",
       "1         7w9bgPAmPTtrkt2v16QWvQ\n",
       "2         2Dr76N76UX0xtZoLvwe3WY\n",
       "3         1h45qrpHTHLlbCGSr8QQEA\n",
       "4         3uBeTrCu8B31thODnDjcat\n",
       "                   ...          \n",
       "184089    7JDtr9BcPgqYyDla3G7DI2\n",
       "184110    1HEfXDxLCuIAOvNkYMK9pC\n",
       "184112    3WF3B7Egz8HxQ1lVVJMh7u\n",
       "184126    2sITbbWIOeg2Lwp4WN2jqr\n",
       "184241    3NbQIxqkq36cy5a8Ub9vZ0\n",
       "Name: spotify_track_uri, Length: 19085, dtype: object"
      ]
     },
     "execution_count": 206,
     "metadata": {},
     "output_type": "execute_result"
    }
   ],
   "source": [
    "distinct_track_ids"
   ]
  },
  {
   "cell_type": "code",
   "execution_count": 201,
   "id": "267ee1f4-0099-4ed8-a377-1c55b6b0d4d6",
   "metadata": {},
   "outputs": [
    {
     "name": "stdout",
     "output_type": "stream",
     "text": [
      "0 100\n"
     ]
    }
   ],
   "source": [
    "# define endopint\n",
    "url = f\"https://api.spotify.com/v1/audio-features?\"\n",
    "# loop over chunks of 100 track ids\n",
    "for start in range(0, len(distinct_track_ids), 100):\n",
    "    end = start+100\n",
    "    print(start, start+100)\n",
    "    chunk_ids = distinct_track_ids.iloc[start:5].tolist()\n",
    "    # headers['ids'] = ','.join(chunk_ids)\n",
    "    params = {'ids':','.join(chunk_ids)}\n",
    "    # format url\n",
    "    # url_formatted = url + 'ids=' + '5ubHAQtKuFfiG4FXfLP804%2C7w9bgPAmPTtrkt2v16QWvQ'\n",
    "    # get artist data\n",
    "    response = requests.get(url, params=params, headers=headers)\n",
    "    json_content = response.json()\n",
    "    break"
   ]
  },
  {
   "cell_type": "code",
   "execution_count": 202,
   "id": "22486144-6c88-4f8d-888e-10851f12fe41",
   "metadata": {},
   "outputs": [
    {
     "data": {
      "text/plain": [
       "{'ids': '5ubHAQtKuFfiG4FXfLP804,7w9bgPAmPTtrkt2v16QWvQ,2Dr76N76UX0xtZoLvwe3WY,1h45qrpHTHLlbCGSr8QQEA,3uBeTrCu8B31thODnDjcat'}"
      ]
     },
     "execution_count": 202,
     "metadata": {},
     "output_type": "execute_result"
    }
   ],
   "source": [
    "params"
   ]
  },
  {
   "cell_type": "code",
   "execution_count": 203,
   "id": "ccbf85f8-619a-4a75-bfdd-586165b0b20c",
   "metadata": {},
   "outputs": [
    {
     "data": {
      "text/plain": [
       "'https://api.spotify.com/v1/audio-features?ids=5ubHAQtKuFfiG4FXfLP804%2C7w9bgPAmPTtrkt2v16QWvQ%2C2Dr76N76UX0xtZoLvwe3WY%2C1h45qrpHTHLlbCGSr8QQEA%2C3uBeTrCu8B31thODnDjcat'"
      ]
     },
     "execution_count": 203,
     "metadata": {},
     "output_type": "execute_result"
    }
   ],
   "source": [
    "response.url"
   ]
  },
  {
   "cell_type": "code",
   "execution_count": 204,
   "id": "f776ac53-7782-46f2-a42a-11e5014124d9",
   "metadata": {},
   "outputs": [
    {
     "data": {
      "text/plain": [
       "<Response [403]>"
      ]
     },
     "execution_count": 204,
     "metadata": {},
     "output_type": "execute_result"
    }
   ],
   "source": [
    "response"
   ]
  },
  {
   "cell_type": "code",
   "execution_count": 205,
   "id": "e058f36b-da74-4643-8995-db11ab9f0537",
   "metadata": {},
   "outputs": [
    {
     "data": {
      "text/plain": [
       "{'error': {'status': 403}}"
      ]
     },
     "execution_count": 205,
     "metadata": {},
     "output_type": "execute_result"
    }
   ],
   "source": [
    "json_content"
   ]
  },
  {
   "cell_type": "code",
   "execution_count": 214,
   "id": "eaa2b252-ff18-4130-ae87-19caf041991a",
   "metadata": {},
   "outputs": [
    {
     "data": {
      "text/plain": [
       "(1204025, 24)"
      ]
     },
     "execution_count": 214,
     "metadata": {},
     "output_type": "execute_result"
    }
   ],
   "source": [
    "features = pd.read_csv('data/tracks_features.csv')\n",
    "features.shape"
   ]
  },
  {
   "cell_type": "code",
   "execution_count": 223,
   "id": "517ee310-3722-400f-91ef-c5cbac598f92",
   "metadata": {},
   "outputs": [],
   "source": [
    "# get distinct tracks\n",
    "distinct_track_ids = streaming_data['track_id'].unique().tolist()"
   ]
  },
  {
   "cell_type": "code",
   "execution_count": 225,
   "id": "7a94ae0e-b43d-4829-8957-a6839df72da9",
   "metadata": {},
   "outputs": [
    {
     "data": {
      "text/plain": [
       "16789"
      ]
     },
     "execution_count": 225,
     "metadata": {},
     "output_type": "execute_result"
    }
   ],
   "source": [
    "# check viability\n",
    "not_found = set(distinct_track_ids) - set(features['id'].tolist())\n",
    "len(not_found)"
   ]
  },
  {
   "cell_type": "code",
   "execution_count": 230,
   "id": "ce851559-d824-44e9-a317-6529b0931c87",
   "metadata": {},
   "outputs": [
    {
     "data": {
      "text/plain": [
       "2298"
      ]
     },
     "execution_count": 230,
     "metadata": {},
     "output_type": "execute_result"
    }
   ],
   "source": [
    "streaming_data[streaming_data['track_id'].isin(features['id'].tolist())]['master_metadata_track_name'].nunique()"
   ]
  },
  {
   "cell_type": "markdown",
   "id": "de543097-9a68-4447-9921-2da70019d96c",
   "metadata": {},
   "source": [
    "## <span style=\"color: #95a5a6\">Output</span>"
   ]
  },
  {
   "cell_type": "code",
   "execution_count": 11,
   "id": "3a1e8118-ad1e-4dc1-9481-3e9539455ba1",
   "metadata": {},
   "outputs": [],
   "source": [
    "streaming_data.to_csv('output/streaming_history.csv', index=False)"
   ]
  }
 ],
 "metadata": {
  "kernelspec": {
   "display_name": "general",
   "language": "python",
   "name": "general"
  },
  "language_info": {
   "codemirror_mode": {
    "name": "ipython",
    "version": 3
   },
   "file_extension": ".py",
   "mimetype": "text/x-python",
   "name": "python",
   "nbconvert_exporter": "python",
   "pygments_lexer": "ipython3",
   "version": "3.9.13"
  }
 },
 "nbformat": 4,
 "nbformat_minor": 5
}
