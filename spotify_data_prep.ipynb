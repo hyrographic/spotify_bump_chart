{
 "cells": [
  {
   "cell_type": "code",
   "execution_count": 1,
   "id": "16241cee-848e-4c85-b798-5ad460c09e9b",
   "metadata": {},
   "outputs": [],
   "source": [
    "import pandas as pd\n",
    "import numpy as np\n",
    "import re\n",
    "import json\n",
    "import os\n",
    "import requests\n",
    "import random\n",
    "from matplotlib import pyplot as plt"
   ]
  },
  {
   "cell_type": "markdown",
   "id": "adebd382-0986-4b30-95f4-dd71290f28a0",
   "metadata": {},
   "source": [
    "## <span style=\"color: #95a5a6\"> Read Data</span>"
   ]
  },
  {
   "cell_type": "code",
   "execution_count": 3,
   "id": "efb20969-f0e9-49a7-8ca3-1a12df6b1db9",
   "metadata": {},
   "outputs": [],
   "source": [
    "streaming_files = [f for f in os.listdir('data') if '.json' in f]\n",
    "streaming_data_list = []\n",
    "for file_name in streaming_files:\n",
    "    with open(f'data/{file_name}', encoding=\"utf8\") as f:\n",
    "        json_data = json.load(f)\n",
    "    streaming_data_list.extend(json_data)"
   ]
  },
  {
   "cell_type": "code",
   "execution_count": 4,
   "id": "50d7dc02-fc64-4411-9070-fcaa241fb011",
   "metadata": {},
   "outputs": [
    {
     "data": {
      "text/plain": [
       "(16859, 21)"
      ]
     },
     "execution_count": 4,
     "metadata": {},
     "output_type": "execute_result"
    }
   ],
   "source": [
    "streaming_data = pd.DataFrame(streaming_data_list)\n",
    "streaming_data.shape"
   ]
  },
  {
   "cell_type": "code",
   "execution_count": 5,
   "id": "57212bd8-e104-432a-b784-c92f924b7bdc",
   "metadata": {},
   "outputs": [],
   "source": [
    "streaming_data['track_id'] = streaming_data['spotify_track_uri'].str.split(':').str[-1]"
   ]
  },
  {
   "cell_type": "code",
   "execution_count": 6,
   "id": "b31a781e-8622-4ab5-a4d6-6d968e2c7fea",
   "metadata": {},
   "outputs": [],
   "source": [
    "pd.set_option('display.max_columns', None)"
   ]
  },
  {
   "cell_type": "markdown",
   "id": "4de544c5-e146-4198-8738-f6d578318904",
   "metadata": {
    "tags": []
   },
   "source": [
    "## <span style=\"color: #95a5a6\">Prep</span>"
   ]
  },
  {
   "cell_type": "code",
   "execution_count": 7,
   "id": "828f5df3-d642-403b-b1f2-8708c88985fa",
   "metadata": {},
   "outputs": [],
   "source": [
    "# convert ts to date\n",
    "streaming_data['ts'] = pd.to_datetime(streaming_data['ts'])\n",
    "# remove incomplete month\n",
    "streaming_data['y'] = streaming_data['ts'].dt.year\n",
    "streaming_data['m'] = streaming_data['ts'].dt.month\n",
    "incomplete_start_month = streaming_data[(streaming_data['y'] == 2015) & (streaming_data['m'] == 3)].index\n",
    "incomplete_end_month = streaming_data[(streaming_data['y'] == 2024) & (streaming_data['m'] == 7)].index\n",
    "streaming_data.drop(index=incomplete_start_month, inplace=True)\n",
    "streaming_data.drop(index=incomplete_end_month, inplace=True)\n",
    "streaming_data.reset_index(drop=True, inplace=True)"
   ]
  },
  {
   "cell_type": "code",
   "execution_count": 8,
   "id": "c0ef8ab2-9d5d-4983-9e00-709612132e0c",
   "metadata": {},
   "outputs": [],
   "source": [
    "# convert ms to seconds and minutes\n",
    "streaming_data['seconds_played'] = streaming_data['ms_played'] / 1_000\n",
    "streaming_data['minutes_played'] = streaming_data['seconds_played'] / 60"
   ]
  },
  {
   "cell_type": "code",
   "execution_count": 9,
   "id": "2e4e482b-0ec2-48e7-b4e1-459a2ac02e99",
   "metadata": {},
   "outputs": [],
   "source": [
    "# rename columns\n",
    "col_map = {\n",
    "    'master_metadata_track_name' : 'track_name',\n",
    "    'master_metadata_album_artist_name' : 'artist_name',\n",
    "    'master_metadata_album_album_name' : 'album_name',\n",
    "}\n",
    "streaming_data.rename(columns=col_map, inplace=True)"
   ]
  },
  {
   "cell_type": "code",
   "execution_count": 188,
   "id": "9295f2b8-8577-4013-b01c-cb8605115f64",
   "metadata": {},
   "outputs": [],
   "source": [
    "# get distinct tracks\n",
    "distinct_tracks = streaming_data.drop_duplicates(['track_name'])\n",
    "distinct_track_ids = distinct_tracks['spotify_track_uri'].str.split(':').str[-1]\n",
    "distinct_track_ids.dropna(inplace=True)"
   ]
  },
  {
   "cell_type": "code",
   "execution_count": 206,
   "id": "77f3e8ae-f165-4bb2-be07-4b605dc0a60e",
   "metadata": {},
   "outputs": [
    {
     "data": {
      "text/plain": [
       "0         5ubHAQtKuFfiG4FXfLP804\n",
       "1         7w9bgPAmPTtrkt2v16QWvQ\n",
       "2         2Dr76N76UX0xtZoLvwe3WY\n",
       "3         1h45qrpHTHLlbCGSr8QQEA\n",
       "4         3uBeTrCu8B31thODnDjcat\n",
       "                   ...          \n",
       "184089    7JDtr9BcPgqYyDla3G7DI2\n",
       "184110    1HEfXDxLCuIAOvNkYMK9pC\n",
       "184112    3WF3B7Egz8HxQ1lVVJMh7u\n",
       "184126    2sITbbWIOeg2Lwp4WN2jqr\n",
       "184241    3NbQIxqkq36cy5a8Ub9vZ0\n",
       "Name: spotify_track_uri, Length: 19085, dtype: object"
      ]
     },
     "execution_count": 206,
     "metadata": {},
     "output_type": "execute_result"
    }
   ],
   "source": [
    "distinct_track_ids"
   ]
  },
  {
   "cell_type": "code",
   "execution_count": 201,
   "id": "267ee1f4-0099-4ed8-a377-1c55b6b0d4d6",
   "metadata": {},
   "outputs": [
    {
     "name": "stdout",
     "output_type": "stream",
     "text": [
      "0 100\n"
     ]
    }
   ],
   "source": [
    "# define endopint\n",
    "url = f\"https://api.spotify.com/v1/audio-features?\"\n",
    "# loop over chunks of 100 track ids\n",
    "for start in range(0, len(distinct_track_ids), 100):\n",
    "    end = start+100\n",
    "    print(start, start+100)\n",
    "    chunk_ids = distinct_track_ids.iloc[start:5].tolist()\n",
    "    # headers['ids'] = ','.join(chunk_ids)\n",
    "    params = {'ids':','.join(chunk_ids)}\n",
    "    # format url\n",
    "    # url_formatted = url + 'ids=' + '5ubHAQtKuFfiG4FXfLP804%2C7w9bgPAmPTtrkt2v16QWvQ'\n",
    "    # get artist data\n",
    "    response = requests.get(url, params=params, headers=headers)\n",
    "    json_content = response.json()\n",
    "    break"
   ]
  },
  {
   "cell_type": "code",
   "execution_count": 202,
   "id": "22486144-6c88-4f8d-888e-10851f12fe41",
   "metadata": {},
   "outputs": [
    {
     "data": {
      "text/plain": [
       "{'ids': '5ubHAQtKuFfiG4FXfLP804,7w9bgPAmPTtrkt2v16QWvQ,2Dr76N76UX0xtZoLvwe3WY,1h45qrpHTHLlbCGSr8QQEA,3uBeTrCu8B31thODnDjcat'}"
      ]
     },
     "execution_count": 202,
     "metadata": {},
     "output_type": "execute_result"
    }
   ],
   "source": [
    "params"
   ]
  },
  {
   "cell_type": "code",
   "execution_count": 203,
   "id": "ccbf85f8-619a-4a75-bfdd-586165b0b20c",
   "metadata": {},
   "outputs": [
    {
     "data": {
      "text/plain": [
       "'https://api.spotify.com/v1/audio-features?ids=5ubHAQtKuFfiG4FXfLP804%2C7w9bgPAmPTtrkt2v16QWvQ%2C2Dr76N76UX0xtZoLvwe3WY%2C1h45qrpHTHLlbCGSr8QQEA%2C3uBeTrCu8B31thODnDjcat'"
      ]
     },
     "execution_count": 203,
     "metadata": {},
     "output_type": "execute_result"
    }
   ],
   "source": [
    "response.url"
   ]
  },
  {
   "cell_type": "code",
   "execution_count": 204,
   "id": "f776ac53-7782-46f2-a42a-11e5014124d9",
   "metadata": {},
   "outputs": [
    {
     "data": {
      "text/plain": [
       "<Response [403]>"
      ]
     },
     "execution_count": 204,
     "metadata": {},
     "output_type": "execute_result"
    }
   ],
   "source": [
    "response"
   ]
  },
  {
   "cell_type": "code",
   "execution_count": 205,
   "id": "e058f36b-da74-4643-8995-db11ab9f0537",
   "metadata": {},
   "outputs": [
    {
     "data": {
      "text/plain": [
       "{'error': {'status': 403}}"
      ]
     },
     "execution_count": 205,
     "metadata": {},
     "output_type": "execute_result"
    }
   ],
   "source": [
    "json_content"
   ]
  },
  {
   "cell_type": "code",
   "execution_count": 214,
   "id": "eaa2b252-ff18-4130-ae87-19caf041991a",
   "metadata": {},
   "outputs": [
    {
     "data": {
      "text/plain": [
       "(1204025, 24)"
      ]
     },
     "execution_count": 214,
     "metadata": {},
     "output_type": "execute_result"
    }
   ],
   "source": [
    "features = pd.read_csv('data/tracks_features.csv')\n",
    "features.shape"
   ]
  },
  {
   "cell_type": "code",
   "execution_count": 223,
   "id": "517ee310-3722-400f-91ef-c5cbac598f92",
   "metadata": {},
   "outputs": [],
   "source": [
    "# get distinct tracks\n",
    "distinct_track_ids = streaming_data['track_id'].unique().tolist()"
   ]
  },
  {
   "cell_type": "code",
   "execution_count": 225,
   "id": "7a94ae0e-b43d-4829-8957-a6839df72da9",
   "metadata": {},
   "outputs": [
    {
     "data": {
      "text/plain": [
       "16789"
      ]
     },
     "execution_count": 225,
     "metadata": {},
     "output_type": "execute_result"
    }
   ],
   "source": [
    "# check viability\n",
    "not_found = set(distinct_track_ids) - set(features['id'].tolist())\n",
    "len(not_found)"
   ]
  },
  {
   "cell_type": "code",
   "execution_count": 230,
   "id": "ce851559-d824-44e9-a317-6529b0931c87",
   "metadata": {},
   "outputs": [
    {
     "data": {
      "text/plain": [
       "2298"
      ]
     },
     "execution_count": 230,
     "metadata": {},
     "output_type": "execute_result"
    }
   ],
   "source": [
    "streaming_data[streaming_data['track_id'].isin(features['id'].tolist())]['master_metadata_track_name'].nunique()"
   ]
  },
  {
   "cell_type": "markdown",
   "id": "de543097-9a68-4447-9921-2da70019d96c",
   "metadata": {},
   "source": [
    "## <span style=\"color: #95a5a6\">Output</span>"
   ]
  },
  {
   "cell_type": "code",
   "execution_count": 11,
   "id": "3a1e8118-ad1e-4dc1-9481-3e9539455ba1",
   "metadata": {},
   "outputs": [],
   "source": [
    "streaming_data.to_csv('output/streaming_history.csv', index=False)"
   ]
  }
 ],
 "metadata": {
  "kernelspec": {
   "display_name": "general",
   "language": "python",
   "name": "general"
  },
  "language_info": {
   "codemirror_mode": {
    "name": "ipython",
    "version": 3
   },
   "file_extension": ".py",
   "mimetype": "text/x-python",
   "name": "python",
   "nbconvert_exporter": "python",
   "pygments_lexer": "ipython3",
   "version": "3.9.13"
  }
 },
 "nbformat": 4,
 "nbformat_minor": 5
}
